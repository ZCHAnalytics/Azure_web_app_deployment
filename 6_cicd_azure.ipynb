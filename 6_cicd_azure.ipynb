{
 "cells": [
  {
   "cell_type": "markdown",
   "metadata": {},
   "source": [
    "# 6. Configure a CI/CD pipeline in Azure \n",
    "\n",
    "I will now try to create a pipeline in Azure DevOps. \n",
    "\n",
    "I need to disconnect the GitHub remote and run `azd pipeline config` again\n",
    "\n",
    "\n",
    "`azd` also congifures a service principal for the app on the Azure subscription. It configures a secure connection between Azure and GitHUb repository using the service principal and GitHub secrets. "
   ]
  }
 ],
 "metadata": {
  "language_info": {
   "name": "python"
  }
 },
 "nbformat": 4,
 "nbformat_minor": 2
}
